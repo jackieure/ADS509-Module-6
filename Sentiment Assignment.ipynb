{
 "cells": [
  {
   "cell_type": "markdown",
   "id": "7f79baf9",
   "metadata": {},
   "source": [
    "# ADS 509 Sentiment Assignment\n",
    "\n",
    "This notebook holds the Sentiment Assignment for Module 6 in ADS 509, Applied Text Mining. Work through this notebook, writing code and answering questions where required. \n",
    "\n",
    "In a previous assignment you put together Twitter data and lyrics data on two artists. In this assignment we apply sentiment analysis to those data sets. If, for some reason, you did not complete that previous assignment, data to use for this assignment can be found in the assignment materials section of Blackboard. \n"
   ]
  },
  {
   "cell_type": "markdown",
   "id": "aae8e2e1",
   "metadata": {},
   "source": [
    "## General Assignment Instructions\n",
    "\n",
    "These instructions are included in every assignment, to remind you of the coding standards for the class. Feel free to delete this cell after reading it. \n",
    "\n",
    "One sign of mature code is conforming to a style guide. We recommend the [Google Python Style Guide](https://google.github.io/styleguide/pyguide.html). If you use a different style guide, please include a cell with a link. \n",
    "\n",
    "Your code should be relatively easy-to-read, sensibly commented, and clean. Writing code is a messy process, so please be sure to edit your final submission. Remove any cells that are not needed or parts of cells that contain unnecessary code. Remove inessential `import` statements and make sure that all such statements are moved into the designated cell. \n",
    "\n",
    "Make use of non-code cells for written commentary. These cells should be grammatical and clearly written. In some of these cells you will have questions to answer. The questions will be marked by a \"Q:\" and will have a corresponding \"A:\" spot for you. *Make sure to answer every question marked with a `Q:` for full credit.* \n"
   ]
  },
  {
   "cell_type": "code",
   "execution_count": 2,
   "id": "e2d096b7",
   "metadata": {},
   "outputs": [],
   "source": [
    "import os\n",
    "import re\n",
    "import emoji\n",
    "import pandas as pd\n",
    "import numpy as np\n",
    "import glob\n",
    "\n",
    "\n",
    "from wordcloud import WordCloud\n",
    "from sklearn.feature_extraction.text import TfidfTransformer, CountVectorizer\n",
    "\n",
    "from collections import Counter, defaultdict\n",
    "from string import punctuation\n",
    "\n",
    "from nltk.corpus import stopwords"
   ]
  },
  {
   "cell_type": "code",
   "execution_count": 4,
   "id": "6b555ab2",
   "metadata": {},
   "outputs": [],
   "source": [
    "punctuation = set(punctuation)\n",
    "tw_punct = punctuation - {\"#\"}\n",
    "\n",
    "# Stopwords - added the 'nan' to this to remove nulls:\n",
    "\n",
    "sw = stopwords.words(\"english\")\n",
    "sw = sw + ['nan']\n",
    "\n",
    "# Two useful regex\n",
    "whitespace_pattern = re.compile(r\"\\s+\")\n",
    "hashtag_pattern = re.compile(r\"^#[0-9a-zA-Z]+\")\n",
    "\n",
    "#emojis\n",
    "all_language_emojis = set()\n",
    "\n",
    "for country in emoji.EMOJI_DATA : \n",
    "    for em in emoji.EMOJI_DATA[country] : \n",
    "        all_language_emojis.add(em)\n",
    "\n",
    "#functions\n",
    "def descriptive_stats(tokens, num_tokens = 5, verbose=True) :\n",
    "    \"\"\"\n",
    "        Given a list of tokens, print number of tokens, number of unique tokens, \n",
    "        number of characters, lexical diversity, and num_tokens most common\n",
    "        tokens. Return a list of \n",
    "    \"\"\"\n",
    "\n",
    "    num_tokens = len(tokens)\n",
    "    num_unique_tokens = len(set(tokens))\n",
    "    lexical_diversity = num_unique_tokens/num_tokens\n",
    "    num_characters = sum(len(token) for token in tokens)\n",
    "    \n",
    "    if verbose :        \n",
    "        print(f\"There are {num_tokens} tokens in the data.\")\n",
    "        print(f\"There are {num_unique_tokens} unique tokens in the data.\")\n",
    "        print(f\"There are {num_characters} characters in the data.\")\n",
    "        print(f\"The lexical diversity is {lexical_diversity:.3f} in the data.\")\n",
    "    \n",
    "        \n",
    "    return([num_tokens, num_unique_tokens,\n",
    "            lexical_diversity,\n",
    "            num_characters])    \n",
    "\n",
    "\n",
    "    \n",
    "def contains_emoji(s):\n",
    "    \n",
    "    s = str(s)\n",
    "    emojis = [ch for ch in s if emoji.is_emoji(ch)]\n",
    "\n",
    "    return(len(emojis) > 0)\n",
    "\n",
    "# Function to remove stop words:\n",
    "\n",
    "def remove_stop(tokens) :\n",
    "\n",
    "\n",
    "    return[t for t in tokens if t not in sw]\n",
    " \n",
    "def remove_punctuation(text, punct_set=tw_punct) : \n",
    "    return(\"\".join([ch for ch in text if ch not in punct_set]))\n",
    "\n",
    "def tokenize(text) : \n",
    "    \"\"\" Splitting on whitespace rather than the book's tokenize function. That \n",
    "        function will drop tokens like '#hashtag' or '2A', which we need for Twitter. \"\"\"\n",
    "    \n",
    "    return([item.lower() for item in whitespace_pattern.split(text)])\n",
    "    \n",
    "\n",
    "\n",
    "pipeline = [str.lower, tokenize, remove_punctuation, remove_stop]\n",
    "\n",
    "def prepare(text, pipeline) : \n",
    "    tokens = str(text)\n",
    "    \n",
    "    for transform in pipeline : \n",
    "        tokens = transform(tokens)\n",
    "        \n",
    "    return(tokens)"
   ]
  },
  {
   "cell_type": "code",
   "execution_count": 5,
   "id": "923b5a86",
   "metadata": {},
   "outputs": [],
   "source": [
    "# change `data_location` to the location of the folder on your machine.\n",
    "data_location = \"/Users/jackieurenda/Desktop/ADS 509/\"\n",
    "\n",
    "# These subfolders should still work if you correctly stored the \n",
    "# data from the Module 1 assignment\n",
    "twitter_folder = \"twitter/\"\n",
    "lyrics_folder = \"lyrics/\"\n",
    "\n",
    "positive_words_file = \"positive-words.txt\"\n",
    "negative_words_file = \"negative-words.txt\"\n",
    "tidy_text_file = \"tidytext_sentiments.txt\""
   ]
  },
  {
   "cell_type": "markdown",
   "id": "9d3bf93e",
   "metadata": {},
   "source": [
    "## Data Input\n",
    "\n",
    "Now read in each of the corpora. For the lyrics data, it may be convenient to store the entire contents of the file to make it easier to inspect the titles individually, as you'll do in the last part of the assignment. In the solution, I stored the lyrics data in a dictionary with two dimensions of keys: artist and song. The value was the file contents. A Pandas data frame would work equally well. \n",
    "\n",
    "For the Twitter data, we only need the description field for this assignment. Feel free all the descriptions read it into a data structure. In the solution, I stored the descriptions as a dictionary of lists, with the key being the artist. \n",
    "\n",
    "\n"
   ]
  },
  {
   "cell_type": "code",
   "execution_count": 7,
   "id": "e219cb06",
   "metadata": {},
   "outputs": [],
   "source": [
    "#read in lyrics data\n",
    "\n",
    "artists = [\"cher\", \"robyn\"]\n",
    "lyrics_files = []\n",
    "artist_list = []\n",
    "lyrics_list = []\n",
    "song_list = []\n",
    "\n",
    "for a in artists:\n",
    "    artist_files = glob.glob(os.path.normpath(os.path.join(data_location + lyrics_folder + a, \"*.txt\")))\n",
    "    list = [a] * len(artist_files)\n",
    "    artist_list = artist_list + list\n",
    "    lyrics_files = lyrics_files + artist_files\n",
    "\n",
    "\n",
    "for file in lyrics_files:\n",
    "    file = open(file, \"r\")\n",
    "    title = file.readline().rstrip()\n",
    "    song_list.append(title)\n",
    "\n",
    "    \n",
    "    list = file.readlines()[1:]\n",
    "    lyrics = \"\".join(list)\n",
    "    lyrics = lyrics.replace('\\n', \" \")\n",
    "    lyrics_list.append(lyrics)\n"
   ]
  },
  {
   "cell_type": "code",
   "execution_count": 8,
   "id": "4ec1cc5d",
   "metadata": {},
   "outputs": [
    {
     "data": {
      "text/html": [
       "<div>\n",
       "<style scoped>\n",
       "    .dataframe tbody tr th:only-of-type {\n",
       "        vertical-align: middle;\n",
       "    }\n",
       "\n",
       "    .dataframe tbody tr th {\n",
       "        vertical-align: top;\n",
       "    }\n",
       "\n",
       "    .dataframe thead th {\n",
       "        text-align: right;\n",
       "    }\n",
       "</style>\n",
       "<table border=\"1\" class=\"dataframe\">\n",
       "  <thead>\n",
       "    <tr style=\"text-align: right;\">\n",
       "      <th></th>\n",
       "      <th>artist</th>\n",
       "      <th>song</th>\n",
       "      <th>lyrics</th>\n",
       "    </tr>\n",
       "  </thead>\n",
       "  <tbody>\n",
       "    <tr>\n",
       "      <th>0</th>\n",
       "      <td>cher</td>\n",
       "      <td>\"Come And Stay With Me\"</td>\n",
       "      <td>I'll send away all my false pride And I'll f...</td>\n",
       "    </tr>\n",
       "    <tr>\n",
       "      <th>1</th>\n",
       "      <td>cher</td>\n",
       "      <td>\"Pirate\"</td>\n",
       "      <td>He'll sail on with the summer wind That blow...</td>\n",
       "    </tr>\n",
       "    <tr>\n",
       "      <th>2</th>\n",
       "      <td>cher</td>\n",
       "      <td>\"Stars\"</td>\n",
       "      <td>I was never one for saying what I really fee...</td>\n",
       "    </tr>\n",
       "    <tr>\n",
       "      <th>3</th>\n",
       "      <td>cher</td>\n",
       "      <td>\"These Days\"</td>\n",
       "      <td>Well I've been out walking  And I don't do t...</td>\n",
       "    </tr>\n",
       "    <tr>\n",
       "      <th>4</th>\n",
       "      <td>cher</td>\n",
       "      <td>\"Love So High\"</td>\n",
       "      <td>Every morning I would wake up And I'd tie th...</td>\n",
       "    </tr>\n",
       "  </tbody>\n",
       "</table>\n",
       "</div>"
      ],
      "text/plain": [
       "  artist                     song  \\\n",
       "0   cher  \"Come And Stay With Me\"   \n",
       "1   cher                 \"Pirate\"   \n",
       "2   cher                  \"Stars\"   \n",
       "3   cher             \"These Days\"   \n",
       "4   cher           \"Love So High\"   \n",
       "\n",
       "                                              lyrics  \n",
       "0    I'll send away all my false pride And I'll f...  \n",
       "1    He'll sail on with the summer wind That blow...  \n",
       "2    I was never one for saying what I really fee...  \n",
       "3    Well I've been out walking  And I don't do t...  \n",
       "4    Every morning I would wake up And I'd tie th...  "
      ]
     },
     "execution_count": 8,
     "metadata": {},
     "output_type": "execute_result"
    }
   ],
   "source": [
    "# Convert to df\n",
    "dict = {'artist': artist_list, 'song': song_list, 'lyrics': lyrics_list}\n",
    "lyrics_data = pd.DataFrame(dict)\n",
    "\n",
    "lyrics_data.head()"
   ]
  },
  {
   "cell_type": "code",
   "execution_count": 10,
   "id": "3a65ef36",
   "metadata": {},
   "outputs": [
    {
     "data": {
      "text/html": [
       "<div>\n",
       "<style scoped>\n",
       "    .dataframe tbody tr th:only-of-type {\n",
       "        vertical-align: middle;\n",
       "    }\n",
       "\n",
       "    .dataframe tbody tr th {\n",
       "        vertical-align: top;\n",
       "    }\n",
       "\n",
       "    .dataframe thead th {\n",
       "        text-align: right;\n",
       "    }\n",
       "</style>\n",
       "<table border=\"1\" class=\"dataframe\">\n",
       "  <thead>\n",
       "    <tr style=\"text-align: right;\">\n",
       "      <th></th>\n",
       "      <th>screen_name</th>\n",
       "      <th>name</th>\n",
       "      <th>id</th>\n",
       "      <th>location</th>\n",
       "      <th>followers_count</th>\n",
       "      <th>friends_count</th>\n",
       "      <th>description</th>\n",
       "      <th>artist</th>\n",
       "    </tr>\n",
       "  </thead>\n",
       "  <tbody>\n",
       "    <tr>\n",
       "      <th>0</th>\n",
       "      <td>hsmcnp</td>\n",
       "      <td>Country Girl</td>\n",
       "      <td>35152213</td>\n",
       "      <td>NaN</td>\n",
       "      <td>1302</td>\n",
       "      <td>1014</td>\n",
       "      <td>NaN</td>\n",
       "      <td>cher</td>\n",
       "    </tr>\n",
       "    <tr>\n",
       "      <th>1</th>\n",
       "      <td>horrormomy</td>\n",
       "      <td>Jeny</td>\n",
       "      <td>742153090850164742</td>\n",
       "      <td>Earth</td>\n",
       "      <td>81</td>\n",
       "      <td>514</td>\n",
       "      <td>𝙿𝚛𝚘𝚞𝚍 𝚜𝚞𝚙𝚙𝚘𝚛𝚝𝚎𝚛 𝚘𝚏 𝚖𝚎𝚜𝚜𝚢 𝚋𝚞𝚗𝚜 &amp; 𝚕𝚎𝚐𝚐𝚒𝚗𝚐𝚜</td>\n",
       "      <td>cher</td>\n",
       "    </tr>\n",
       "    <tr>\n",
       "      <th>2</th>\n",
       "      <td>anju79990584</td>\n",
       "      <td>anju</td>\n",
       "      <td>1496463006451974150</td>\n",
       "      <td>NaN</td>\n",
       "      <td>13</td>\n",
       "      <td>140</td>\n",
       "      <td>163㎝／愛かっぷ💜26歳🍒 工〇好きな女の子💓 フォローしてくれたらDMします🧡</td>\n",
       "      <td>cher</td>\n",
       "    </tr>\n",
       "    <tr>\n",
       "      <th>3</th>\n",
       "      <td>gallionjenna</td>\n",
       "      <td>J</td>\n",
       "      <td>3366479914</td>\n",
       "      <td>NaN</td>\n",
       "      <td>752</td>\n",
       "      <td>556</td>\n",
       "      <td>csu</td>\n",
       "      <td>cher</td>\n",
       "    </tr>\n",
       "    <tr>\n",
       "      <th>4</th>\n",
       "      <td>bcscomm</td>\n",
       "      <td>bcscomm</td>\n",
       "      <td>83915043</td>\n",
       "      <td>Washington, DC</td>\n",
       "      <td>888</td>\n",
       "      <td>2891</td>\n",
       "      <td>Writer @Washinformer @SpelmanCollege alumna #D...</td>\n",
       "      <td>cher</td>\n",
       "    </tr>\n",
       "  </tbody>\n",
       "</table>\n",
       "</div>"
      ],
      "text/plain": [
       "    screen_name          name                   id        location  \\\n",
       "0        hsmcnp  Country Girl             35152213             NaN   \n",
       "1    horrormomy          Jeny   742153090850164742           Earth   \n",
       "2  anju79990584          anju  1496463006451974150             NaN   \n",
       "3  gallionjenna             J           3366479914             NaN   \n",
       "4       bcscomm       bcscomm             83915043  Washington, DC   \n",
       "\n",
       "   followers_count  friends_count  \\\n",
       "0             1302           1014   \n",
       "1               81            514   \n",
       "2               13            140   \n",
       "3              752            556   \n",
       "4              888           2891   \n",
       "\n",
       "                                         description artist  \n",
       "0                                                NaN   cher  \n",
       "1           𝙿𝚛𝚘𝚞𝚍 𝚜𝚞𝚙𝚙𝚘𝚛𝚝𝚎𝚛 𝚘𝚏 𝚖𝚎𝚜𝚜𝚢 𝚋𝚞𝚗𝚜 & 𝚕𝚎𝚐𝚐𝚒𝚗𝚐𝚜   cher  \n",
       "2          163㎝／愛かっぷ💜26歳🍒 工〇好きな女の子💓 フォローしてくれたらDMします🧡   cher  \n",
       "3                                                csu   cher  \n",
       "4  Writer @Washinformer @SpelmanCollege alumna #D...   cher  "
      ]
     },
     "execution_count": 10,
     "metadata": {},
     "output_type": "execute_result"
    }
   ],
   "source": [
    "#read in twitter data\n",
    "\n",
    "artist_files = {'cher':'cher_followers_data.txt',\n",
    "                'robyn':'robynkonichiwa_followers_data.txt'}\n",
    "\n",
    "twitter_data = pd.read_csv(data_location + twitter_folder + artist_files['cher'],\n",
    "                           sep=\"\\t\",\n",
    "                           quoting=3)\n",
    "\n",
    "twitter_data['artist'] = \"cher\"\n",
    "\n",
    "twitter_data_2 = pd.read_csv(data_location + twitter_folder + artist_files['robyn'],\n",
    "                             sep=\"\\t\",\n",
    "                             quoting=3)\n",
    "twitter_data_2['artist'] = \"robyn\"\n",
    "\n",
    "twitter_data = pd.concat([\n",
    "    twitter_data,twitter_data_2])\n",
    "    \n",
    "del(twitter_data_2)\n",
    "\n",
    "twitter_data.head()\n"
   ]
  },
  {
   "cell_type": "code",
   "execution_count": null,
   "id": "af9e7a4b",
   "metadata": {},
   "outputs": [],
   "source": [
    "# Read in the positive and negative words and the\n",
    "# tidytext sentiment. Store these so that the positive\n",
    "# words are associated with a score of +1 and negative words\n",
    "# are associated with a score of -1. You can use a dataframe or a \n",
    "# dictionary for this."
   ]
  },
  {
   "cell_type": "code",
   "execution_count": 11,
   "id": "5d8340b5",
   "metadata": {},
   "outputs": [
    {
     "data": {
      "text/html": [
       "<div>\n",
       "<style scoped>\n",
       "    .dataframe tbody tr th:only-of-type {\n",
       "        vertical-align: middle;\n",
       "    }\n",
       "\n",
       "    .dataframe tbody tr th {\n",
       "        vertical-align: top;\n",
       "    }\n",
       "\n",
       "    .dataframe thead th {\n",
       "        text-align: right;\n",
       "    }\n",
       "</style>\n",
       "<table border=\"1\" class=\"dataframe\">\n",
       "  <thead>\n",
       "    <tr style=\"text-align: right;\">\n",
       "      <th></th>\n",
       "      <th>word</th>\n",
       "      <th>sentiment</th>\n",
       "      <th>lexicon</th>\n",
       "    </tr>\n",
       "  </thead>\n",
       "  <tbody>\n",
       "    <tr>\n",
       "      <th>0</th>\n",
       "      <td>abandon</td>\n",
       "      <td>negative</td>\n",
       "      <td>nrc</td>\n",
       "    </tr>\n",
       "    <tr>\n",
       "      <th>1</th>\n",
       "      <td>abandoned</td>\n",
       "      <td>negative</td>\n",
       "      <td>nrc</td>\n",
       "    </tr>\n",
       "    <tr>\n",
       "      <th>2</th>\n",
       "      <td>abandonment</td>\n",
       "      <td>negative</td>\n",
       "      <td>nrc</td>\n",
       "    </tr>\n",
       "    <tr>\n",
       "      <th>3</th>\n",
       "      <td>abba</td>\n",
       "      <td>positive</td>\n",
       "      <td>nrc</td>\n",
       "    </tr>\n",
       "    <tr>\n",
       "      <th>4</th>\n",
       "      <td>abduction</td>\n",
       "      <td>negative</td>\n",
       "      <td>nrc</td>\n",
       "    </tr>\n",
       "  </tbody>\n",
       "</table>\n",
       "</div>"
      ],
      "text/plain": [
       "          word sentiment lexicon\n",
       "0      abandon  negative     nrc\n",
       "1    abandoned  negative     nrc\n",
       "2  abandonment  negative     nrc\n",
       "3         abba  positive     nrc\n",
       "4    abduction  negative     nrc"
      ]
     },
     "execution_count": 11,
     "metadata": {},
     "output_type": "execute_result"
    }
   ],
   "source": [
    "#reading in the tidytext file:\n",
    "\n",
    "tidy_text = pd.read_csv('tidytext_sentiments.txt', sep='\\t')\n",
    "\n",
    "tidy_text.head()"
   ]
  },
  {
   "cell_type": "code",
   "execution_count": 13,
   "id": "86165e6a",
   "metadata": {},
   "outputs": [
    {
     "data": {
      "text/html": [
       "<div>\n",
       "<style scoped>\n",
       "    .dataframe tbody tr th:only-of-type {\n",
       "        vertical-align: middle;\n",
       "    }\n",
       "\n",
       "    .dataframe tbody tr th {\n",
       "        vertical-align: top;\n",
       "    }\n",
       "\n",
       "    .dataframe thead th {\n",
       "        text-align: right;\n",
       "    }\n",
       "</style>\n",
       "<table border=\"1\" class=\"dataframe\">\n",
       "  <thead>\n",
       "    <tr style=\"text-align: right;\">\n",
       "      <th></th>\n",
       "      <th>word</th>\n",
       "      <th>sentiment</th>\n",
       "      <th>lexicon</th>\n",
       "      <th>sentiment_score</th>\n",
       "    </tr>\n",
       "  </thead>\n",
       "  <tbody>\n",
       "    <tr>\n",
       "      <th>0</th>\n",
       "      <td>abandon</td>\n",
       "      <td>negative</td>\n",
       "      <td>nrc</td>\n",
       "      <td>-1</td>\n",
       "    </tr>\n",
       "    <tr>\n",
       "      <th>1</th>\n",
       "      <td>abandoned</td>\n",
       "      <td>negative</td>\n",
       "      <td>nrc</td>\n",
       "      <td>-1</td>\n",
       "    </tr>\n",
       "    <tr>\n",
       "      <th>2</th>\n",
       "      <td>abandonment</td>\n",
       "      <td>negative</td>\n",
       "      <td>nrc</td>\n",
       "      <td>-1</td>\n",
       "    </tr>\n",
       "    <tr>\n",
       "      <th>3</th>\n",
       "      <td>abba</td>\n",
       "      <td>positive</td>\n",
       "      <td>nrc</td>\n",
       "      <td>1</td>\n",
       "    </tr>\n",
       "    <tr>\n",
       "      <th>4</th>\n",
       "      <td>abduction</td>\n",
       "      <td>negative</td>\n",
       "      <td>nrc</td>\n",
       "      <td>-1</td>\n",
       "    </tr>\n",
       "    <tr>\n",
       "      <th>5</th>\n",
       "      <td>aberrant</td>\n",
       "      <td>negative</td>\n",
       "      <td>nrc</td>\n",
       "      <td>-1</td>\n",
       "    </tr>\n",
       "    <tr>\n",
       "      <th>6</th>\n",
       "      <td>aberration</td>\n",
       "      <td>negative</td>\n",
       "      <td>nrc</td>\n",
       "      <td>-1</td>\n",
       "    </tr>\n",
       "    <tr>\n",
       "      <th>7</th>\n",
       "      <td>abhor</td>\n",
       "      <td>negative</td>\n",
       "      <td>nrc</td>\n",
       "      <td>-1</td>\n",
       "    </tr>\n",
       "    <tr>\n",
       "      <th>8</th>\n",
       "      <td>abhorrent</td>\n",
       "      <td>negative</td>\n",
       "      <td>nrc</td>\n",
       "      <td>-1</td>\n",
       "    </tr>\n",
       "    <tr>\n",
       "      <th>9</th>\n",
       "      <td>ability</td>\n",
       "      <td>positive</td>\n",
       "      <td>nrc</td>\n",
       "      <td>1</td>\n",
       "    </tr>\n",
       "  </tbody>\n",
       "</table>\n",
       "</div>"
      ],
      "text/plain": [
       "          word sentiment lexicon  sentiment_score\n",
       "0      abandon  negative     nrc               -1\n",
       "1    abandoned  negative     nrc               -1\n",
       "2  abandonment  negative     nrc               -1\n",
       "3         abba  positive     nrc                1\n",
       "4    abduction  negative     nrc               -1\n",
       "5     aberrant  negative     nrc               -1\n",
       "6   aberration  negative     nrc               -1\n",
       "7        abhor  negative     nrc               -1\n",
       "8    abhorrent  negative     nrc               -1\n",
       "9      ability  positive     nrc                1"
      ]
     },
     "execution_count": 13,
     "metadata": {},
     "output_type": "execute_result"
    }
   ],
   "source": [
    "tidy_text['sentiment_score'] = tidy_text['sentiment'].replace({'negative' : -1, 'positive' : 1})\n",
    "\n",
    "tidy_text.head(10)"
   ]
  },
  {
   "cell_type": "code",
   "execution_count": 14,
   "id": "3a9f2b25",
   "metadata": {},
   "outputs": [
    {
     "data": {
      "text/plain": [
       "<AxesSubplot: >"
      ]
     },
     "execution_count": 14,
     "metadata": {},
     "output_type": "execute_result"
    },
    {
     "data": {
      "image/png": "[encoded data removed]",
      "text/plain": [
       "<Figure size 500x200 with 1 Axes>"
      ]
     },
     "metadata": {},
     "output_type": "display_data"
    }
   ],
   "source": [
    "tidy_text['sentiment_score'].hist(figsize=(5,2))"
   ]
  },
  {
   "attachments": {},
   "cell_type": "markdown",
   "id": "1d8fe137",
   "metadata": {},
   "source": [
    "### Bing Liu Lexicon"
   ]
  },
  {
   "cell_type": "code",
   "execution_count": 15,
   "id": "1fff3054",
   "metadata": {},
   "outputs": [
    {
     "name": "stderr",
     "output_type": "stream",
     "text": [
      "[nltk_data] Downloading package opinion_lexicon to\n",
      "[nltk_data]     /Users/jackieurenda/nltk_data...\n",
      "[nltk_data]   Package opinion_lexicon is already up-to-date!\n"
     ]
    },
    {
     "data": {
      "text/plain": [
       "True"
      ]
     },
     "execution_count": 15,
     "metadata": {},
     "output_type": "execute_result"
    }
   ],
   "source": [
    "import nltk\n",
    "from nltk.corpus import opinion_lexicon\n",
    "from nltk.tokenize import word_tokenize\n",
    "nltk.download('opinion_lexicon')"
   ]
  },
  {
   "cell_type": "code",
   "execution_count": 16,
   "id": "65290a9e",
   "metadata": {},
   "outputs": [],
   "source": [
    "pos_score = 1\n",
    "neg_score = -1\n",
    "word_dict = {}\n",
    "\n",
    "for word in opinion_lexicon.positive():\n",
    "    word_dict[word] = pos_score\n",
    "\n",
    "for word in opinion_lexicon.negative():\n",
    "    word_dict[word] = neg_score\n",
    "\n",
    "def bing_liu_score(text):\n",
    "    sentiment_score = 0\n",
    "    for word in text:\n",
    "        if word in word_dict:\n",
    "            sentiment_score += word_dict[word]\n",
    "    return sentiment_score/len(text)"
   ]
  },
  {
   "cell_type": "markdown",
   "id": "6a5f3b12",
   "metadata": {},
   "source": [
    "## Sentiment Analysis on Songs\n",
    "\n",
    "In this section, score the sentiment for all the songs for both artists in your data set. Score the sentiment by manually calculating the sentiment using the combined lexicons provided in this repository. \n",
    "\n",
    "After you have calculated these sentiments, answer the questions at the end of this section.\n"
   ]
  },
  {
   "cell_type": "code",
   "execution_count": 17,
   "id": "127ae613",
   "metadata": {},
   "outputs": [
    {
     "data": {
      "text/html": [
       "<div>\n",
       "<style scoped>\n",
       "    .dataframe tbody tr th:only-of-type {\n",
       "        vertical-align: middle;\n",
       "    }\n",
       "\n",
       "    .dataframe tbody tr th {\n",
       "        vertical-align: top;\n",
       "    }\n",
       "\n",
       "    .dataframe thead th {\n",
       "        text-align: right;\n",
       "    }\n",
       "</style>\n",
       "<table border=\"1\" class=\"dataframe\">\n",
       "  <thead>\n",
       "    <tr style=\"text-align: right;\">\n",
       "      <th></th>\n",
       "      <th>artist</th>\n",
       "      <th>song</th>\n",
       "      <th>lyrics</th>\n",
       "      <th>tokens</th>\n",
       "    </tr>\n",
       "  </thead>\n",
       "  <tbody>\n",
       "    <tr>\n",
       "      <th>0</th>\n",
       "      <td>cher</td>\n",
       "      <td>\"Come And Stay With Me\"</td>\n",
       "      <td>I'll send away all my false pride And I'll f...</td>\n",
       "      <td>[, ill, send, away, false, pride, ill, forsake...</td>\n",
       "    </tr>\n",
       "    <tr>\n",
       "      <th>1</th>\n",
       "      <td>cher</td>\n",
       "      <td>\"Pirate\"</td>\n",
       "      <td>He'll sail on with the summer wind That blow...</td>\n",
       "      <td>[, hell, sail, summer, wind, blows, day, every...</td>\n",
       "    </tr>\n",
       "    <tr>\n",
       "      <th>2</th>\n",
       "      <td>cher</td>\n",
       "      <td>\"Stars\"</td>\n",
       "      <td>I was never one for saying what I really fee...</td>\n",
       "      <td>[, never, one, saying, really, feel, except, t...</td>\n",
       "    </tr>\n",
       "    <tr>\n",
       "      <th>3</th>\n",
       "      <td>cher</td>\n",
       "      <td>\"These Days\"</td>\n",
       "      <td>Well I've been out walking  And I don't do t...</td>\n",
       "      <td>[, well, ive, walking, dont, much, talking, da...</td>\n",
       "    </tr>\n",
       "    <tr>\n",
       "      <th>4</th>\n",
       "      <td>cher</td>\n",
       "      <td>\"Love So High\"</td>\n",
       "      <td>Every morning I would wake up And I'd tie th...</td>\n",
       "      <td>[, every, morning, would, wake, id, tie, sun, ...</td>\n",
       "    </tr>\n",
       "  </tbody>\n",
       "</table>\n",
       "</div>"
      ],
      "text/plain": [
       "  artist                     song  \\\n",
       "0   cher  \"Come And Stay With Me\"   \n",
       "1   cher                 \"Pirate\"   \n",
       "2   cher                  \"Stars\"   \n",
       "3   cher             \"These Days\"   \n",
       "4   cher           \"Love So High\"   \n",
       "\n",
       "                                              lyrics  \\\n",
       "0    I'll send away all my false pride And I'll f...   \n",
       "1    He'll sail on with the summer wind That blow...   \n",
       "2    I was never one for saying what I really fee...   \n",
       "3    Well I've been out walking  And I don't do t...   \n",
       "4    Every morning I would wake up And I'd tie th...   \n",
       "\n",
       "                                              tokens  \n",
       "0  [, ill, send, away, false, pride, ill, forsake...  \n",
       "1  [, hell, sail, summer, wind, blows, day, every...  \n",
       "2  [, never, one, saying, really, feel, except, t...  \n",
       "3  [, well, ive, walking, dont, much, talking, da...  \n",
       "4  [, every, morning, would, wake, id, tie, sun, ...  "
      ]
     },
     "execution_count": 17,
     "metadata": {},
     "output_type": "execute_result"
    }
   ],
   "source": [
    "pipeline = [str.lower, remove_punctuation, tokenize, remove_stop]\n",
    "\n",
    "lyrics_data[\"tokens\"] = lyrics_data[\"lyrics\"].apply(prepare,pipeline=pipeline)\n",
    "\n",
    "lyrics_data.head()"
   ]
  },
  {
   "cell_type": "code",
   "execution_count": 20,
   "id": "5bb7ad7b",
   "metadata": {},
   "outputs": [],
   "source": [
    "#applying the Tidy Text Function\n",
    "tidy_word_dict = {}\n",
    "\n",
    "def tidy_text_score(text):\n",
    "    tidy_sentiment_score = 1\n",
    "    for word in text:\n",
    "        if word in tidy_word_dict:\n",
    "            tidy_sentiment_score += tidy_word_dict[word]\n",
    "    return (tidy_sentiment_score / len(text))"
   ]
  },
  {
   "cell_type": "code",
   "execution_count": 18,
   "id": "664f8d8f",
   "metadata": {},
   "outputs": [
    {
     "data": {
      "text/html": [
       "<div>\n",
       "<style scoped>\n",
       "    .dataframe tbody tr th:only-of-type {\n",
       "        vertical-align: middle;\n",
       "    }\n",
       "\n",
       "    .dataframe tbody tr th {\n",
       "        vertical-align: top;\n",
       "    }\n",
       "\n",
       "    .dataframe thead th {\n",
       "        text-align: right;\n",
       "    }\n",
       "</style>\n",
       "<table border=\"1\" class=\"dataframe\">\n",
       "  <thead>\n",
       "    <tr style=\"text-align: right;\">\n",
       "      <th></th>\n",
       "      <th>artist</th>\n",
       "      <th>song</th>\n",
       "      <th>lyrics</th>\n",
       "      <th>tokens</th>\n",
       "      <th>Bing_Liu_Score</th>\n",
       "    </tr>\n",
       "  </thead>\n",
       "  <tbody>\n",
       "    <tr>\n",
       "      <th>0</th>\n",
       "      <td>cher</td>\n",
       "      <td>\"Come And Stay With Me\"</td>\n",
       "      <td>I'll send away all my false pride And I'll f...</td>\n",
       "      <td>[, ill, send, away, false, pride, ill, forsake...</td>\n",
       "      <td>0.038462</td>\n",
       "    </tr>\n",
       "    <tr>\n",
       "      <th>1</th>\n",
       "      <td>cher</td>\n",
       "      <td>\"Pirate\"</td>\n",
       "      <td>He'll sail on with the summer wind That blow...</td>\n",
       "      <td>[, hell, sail, summer, wind, blows, day, every...</td>\n",
       "      <td>0.075862</td>\n",
       "    </tr>\n",
       "    <tr>\n",
       "      <th>2</th>\n",
       "      <td>cher</td>\n",
       "      <td>\"Stars\"</td>\n",
       "      <td>I was never one for saying what I really fee...</td>\n",
       "      <td>[, never, one, saying, really, feel, except, t...</td>\n",
       "      <td>-0.006211</td>\n",
       "    </tr>\n",
       "    <tr>\n",
       "      <th>3</th>\n",
       "      <td>cher</td>\n",
       "      <td>\"These Days\"</td>\n",
       "      <td>Well I've been out walking  And I don't do t...</td>\n",
       "      <td>[, well, ive, walking, dont, much, talking, da...</td>\n",
       "      <td>0.012048</td>\n",
       "    </tr>\n",
       "    <tr>\n",
       "      <th>4</th>\n",
       "      <td>cher</td>\n",
       "      <td>\"Love So High\"</td>\n",
       "      <td>Every morning I would wake up And I'd tie th...</td>\n",
       "      <td>[, every, morning, would, wake, id, tie, sun, ...</td>\n",
       "      <td>0.101124</td>\n",
       "    </tr>\n",
       "  </tbody>\n",
       "</table>\n",
       "</div>"
      ],
      "text/plain": [
       "  artist                     song  \\\n",
       "0   cher  \"Come And Stay With Me\"   \n",
       "1   cher                 \"Pirate\"   \n",
       "2   cher                  \"Stars\"   \n",
       "3   cher             \"These Days\"   \n",
       "4   cher           \"Love So High\"   \n",
       "\n",
       "                                              lyrics  \\\n",
       "0    I'll send away all my false pride And I'll f...   \n",
       "1    He'll sail on with the summer wind That blow...   \n",
       "2    I was never one for saying what I really fee...   \n",
       "3    Well I've been out walking  And I don't do t...   \n",
       "4    Every morning I would wake up And I'd tie th...   \n",
       "\n",
       "                                              tokens  Bing_Liu_Score  \n",
       "0  [, ill, send, away, false, pride, ill, forsake...        0.038462  \n",
       "1  [, hell, sail, summer, wind, blows, day, every...        0.075862  \n",
       "2  [, never, one, saying, really, feel, except, t...       -0.006211  \n",
       "3  [, well, ive, walking, dont, much, talking, da...        0.012048  \n",
       "4  [, every, morning, would, wake, id, tie, sun, ...        0.101124  "
      ]
     },
     "execution_count": 18,
     "metadata": {},
     "output_type": "execute_result"
    }
   ],
   "source": [
    "#applying the Bing Liu Lexicon \n",
    "\n",
    "lyrics_data['Bing_Liu_Score'] = lyrics_data['tokens'].apply(bing_liu_score)\n",
    "\n",
    "lyrics_data.head()"
   ]
  },
  {
   "cell_type": "code",
   "execution_count": 21,
   "id": "3b6668c2",
   "metadata": {},
   "outputs": [
    {
     "data": {
      "text/html": [
       "<div>\n",
       "<style scoped>\n",
       "    .dataframe tbody tr th:only-of-type {\n",
       "        vertical-align: middle;\n",
       "    }\n",
       "\n",
       "    .dataframe tbody tr th {\n",
       "        vertical-align: top;\n",
       "    }\n",
       "\n",
       "    .dataframe thead th {\n",
       "        text-align: right;\n",
       "    }\n",
       "</style>\n",
       "<table border=\"1\" class=\"dataframe\">\n",
       "  <thead>\n",
       "    <tr style=\"text-align: right;\">\n",
       "      <th></th>\n",
       "      <th>artist</th>\n",
       "      <th>song</th>\n",
       "      <th>lyrics</th>\n",
       "      <th>tokens</th>\n",
       "      <th>Bing_Liu_Score</th>\n",
       "      <th>Tidy_Text_Score</th>\n",
       "    </tr>\n",
       "  </thead>\n",
       "  <tbody>\n",
       "    <tr>\n",
       "      <th>0</th>\n",
       "      <td>cher</td>\n",
       "      <td>\"Come And Stay With Me\"</td>\n",
       "      <td>I'll send away all my false pride And I'll f...</td>\n",
       "      <td>[, ill, send, away, false, pride, ill, forsake...</td>\n",
       "      <td>0.038462</td>\n",
       "      <td>0.012821</td>\n",
       "    </tr>\n",
       "    <tr>\n",
       "      <th>1</th>\n",
       "      <td>cher</td>\n",
       "      <td>\"Pirate\"</td>\n",
       "      <td>He'll sail on with the summer wind That blow...</td>\n",
       "      <td>[, hell, sail, summer, wind, blows, day, every...</td>\n",
       "      <td>0.075862</td>\n",
       "      <td>0.006897</td>\n",
       "    </tr>\n",
       "    <tr>\n",
       "      <th>2</th>\n",
       "      <td>cher</td>\n",
       "      <td>\"Stars\"</td>\n",
       "      <td>I was never one for saying what I really fee...</td>\n",
       "      <td>[, never, one, saying, really, feel, except, t...</td>\n",
       "      <td>-0.006211</td>\n",
       "      <td>0.006211</td>\n",
       "    </tr>\n",
       "    <tr>\n",
       "      <th>3</th>\n",
       "      <td>cher</td>\n",
       "      <td>\"These Days\"</td>\n",
       "      <td>Well I've been out walking  And I don't do t...</td>\n",
       "      <td>[, well, ive, walking, dont, much, talking, da...</td>\n",
       "      <td>0.012048</td>\n",
       "      <td>0.012048</td>\n",
       "    </tr>\n",
       "    <tr>\n",
       "      <th>4</th>\n",
       "      <td>cher</td>\n",
       "      <td>\"Love So High\"</td>\n",
       "      <td>Every morning I would wake up And I'd tie th...</td>\n",
       "      <td>[, every, morning, would, wake, id, tie, sun, ...</td>\n",
       "      <td>0.101124</td>\n",
       "      <td>0.011236</td>\n",
       "    </tr>\n",
       "  </tbody>\n",
       "</table>\n",
       "</div>"
      ],
      "text/plain": [
       "  artist                     song  \\\n",
       "0   cher  \"Come And Stay With Me\"   \n",
       "1   cher                 \"Pirate\"   \n",
       "2   cher                  \"Stars\"   \n",
       "3   cher             \"These Days\"   \n",
       "4   cher           \"Love So High\"   \n",
       "\n",
       "                                              lyrics  \\\n",
       "0    I'll send away all my false pride And I'll f...   \n",
       "1    He'll sail on with the summer wind That blow...   \n",
       "2    I was never one for saying what I really fee...   \n",
       "3    Well I've been out walking  And I don't do t...   \n",
       "4    Every morning I would wake up And I'd tie th...   \n",
       "\n",
       "                                              tokens  Bing_Liu_Score  \\\n",
       "0  [, ill, send, away, false, pride, ill, forsake...        0.038462   \n",
       "1  [, hell, sail, summer, wind, blows, day, every...        0.075862   \n",
       "2  [, never, one, saying, really, feel, except, t...       -0.006211   \n",
       "3  [, well, ive, walking, dont, much, talking, da...        0.012048   \n",
       "4  [, every, morning, would, wake, id, tie, sun, ...        0.101124   \n",
       "\n",
       "   Tidy_Text_Score  \n",
       "0         0.012821  \n",
       "1         0.006897  \n",
       "2         0.006211  \n",
       "3         0.012048  \n",
       "4         0.011236  "
      ]
     },
     "execution_count": 21,
     "metadata": {},
     "output_type": "execute_result"
    }
   ],
   "source": [
    "\n",
    "lyrics_data['Tidy_Text_Score'] = lyrics_data['tokens'].apply(tidy_text_score)\n",
    "\n",
    "lyrics_data.head()"
   ]
  },
  {
   "cell_type": "code",
   "execution_count": 22,
   "id": "f5d3d5ff",
   "metadata": {},
   "outputs": [
    {
     "name": "stdout",
     "output_type": "stream",
     "text": [
      "artist\n",
      "cher     0.028629\n",
      "robyn    0.019365\n",
      "Name: Bing_Liu_Score, dtype: float64\n"
     ]
    }
   ],
   "source": [
    "average_sentament = lyrics_data.groupby('artist')['Bing_Liu_Score'].mean()\n",
    "\n",
    "print(average_sentament)"
   ]
  },
  {
   "cell_type": "code",
   "execution_count": 23,
   "id": "10177da4",
   "metadata": {},
   "outputs": [
    {
     "name": "stdout",
     "output_type": "stream",
     "text": [
      "  Every night, I lay my head On my pillow on my bed And I just cry myself to sleep  I know I shouldn't cry Over words that were all lies But still, I cry myself to sleep  Each night, I fight the tears But still they fall And all the memories linger on He's gone, he's gone And now there's nothing but to cry Cry myself to sleep Still, I cry myself to sleep  Each night, I fight those tears But still, they fall And all the memories linger on He's gone, he's gone, he's gone And now there's nothing but to cry Ah, cry myself to sleep Ah, cry myself to sleep Ah, cry myself to sleep \n",
      "__________________________________________________\n",
      "  Outrageous, outrageous (They say) I'm outrageous It's the rage  I'm gonna wear what I will and spend some And I will be dress to kill don'tcha know And when the lights come up I'm ready I'm ready To put on a show with class And if I clash it's cause I want to What a show and I want everyone to know They're gonna fly up, get an eyeful Everything that's craved from me I'm gonna be, I'm gonna be outrageous  Outrageous (They say) I'm outrageous It's the rage it's the rage  With my long black hair hanging way down to my Ask me no questions and I'll tell you no lies Don't tell me what to do don't tell me what to be See I don't trust anybody else's traits about make-up and me  Well in my show I let everything go Is what you want is whatcha wanna see from me But when the curtain comes down And you're on your way back home I change into my jeans that are split at the seam I grab my funky black jacket and make quite a racket You drive like you're an outlaw Cause everything that's craved from me I'm gonna be, I'm gonna be outrageous  So outrageous I'm outrageous honey yes a rage It's the rage Outrageous, outrageous I'm outrageous It's the rage it's a rage Outrageous, outrageous They say I'm outrageous \n",
      "__________________________________________________\n",
      "  Some people think they jive me, but I know they must be crazy They can't see their misfortune, or else they're just too lazy Je suie le grand zombie With my yellow chaffen of choisen Ain't afraid of no tomcat and gonna fill my guts with poison I walk through the fire And I'll fly through the smoke I wanna see my enemies On the end of my rope Walk on pins and needles And I see what they can do Walk on guilded splinters With the King of the Zulu  Come to me, get it, come, come Walk on guilded splinters Come to me, get it, come, come Walk on guilded splinters Till I burn up Till I burn up Till I burn up Till I burn up  When I roll out in my coffin Drink poison in my chalice Pride begins to fade And you all feel my malice I put gris-gris on your doorstep So soon you be in the gutter I'll make your heart melt like butter I say I can make you stutter  Come to me, get it, come, come Walk on guilded splinters Come to me, get it, come, come Walk on guilded splinters Till I burn up Till I burn up Till I burn up Till I burn up  Come to me, get it, come, come Walk on guilded splinters Come to me, get it, come, come Walk on guilded splinters Till I burn up Till I burn up Till I burn up Till I burn up  Come to me, get it, come, come Walk on guilded splinters Come to me, get it, come, come Walk on guilded splinters Till I burn up Till I burn up Till I burn up Till I burn up \n",
      "__________________________________________________\n"
     ]
    }
   ],
   "source": [
    "#select first artist\n",
    "\n",
    "first_artist = lyrics_data[lyrics_data['artist'] == 'cher']\n",
    "\n",
    "#sort by sentiment\n",
    "\n",
    "sort_sentiment = first_artist.sort_values(by = 'Bing_Liu_Score')\n",
    "\n",
    "#top 3 and bottom 3 by sentiment\n",
    "\n",
    "top_3 = sort_sentiment.tail(3)\n",
    "bottom_3 = sort_sentiment.head(3)\n",
    "\n",
    "\n",
    "#printing lyrics\n",
    "\n",
    "for i, row in bottom_3.iterrows():\n",
    "    print(row['lyrics'])\n",
    "    print(\"_\"*50)"
   ]
  },
  {
   "cell_type": "code",
   "execution_count": 24,
   "id": "eef45d2a",
   "metadata": {},
   "outputs": [
    {
     "name": "stdout",
     "output_type": "stream",
     "text": [
      "    artist                      song  \\\n",
      "146   cher  \"Love And Understanding\"   \n",
      "137   cher                 \"Move Me\"   \n",
      "15    cher                 \"My Love\"   \n",
      "\n",
      "                                                lyrics  \\\n",
      "146    Here, here in this world Where do we go? Whe...   \n",
      "137    Move me Love the way you move me, baby Groov...   \n",
      "15     When I go away I know my heart can stay with...   \n",
      "\n",
      "                                                tokens  Bing_Liu_Score  \\\n",
      "146  [, world, go, turn, need, love, seems, love, c...        0.279221   \n",
      "137  [, move, love, way, move, baby, groove, love, ...        0.346154   \n",
      "15   [, go, away, know, heart, stay, love, understo...        0.523810   \n",
      "\n",
      "     Tidy_Text_Score  \n",
      "146         0.006494  \n",
      "137         0.012821  \n",
      "15          0.011905  \n"
     ]
    }
   ],
   "source": [
    "print(top_3)"
   ]
  },
  {
   "cell_type": "code",
   "execution_count": 25,
   "id": "6d96a9b3",
   "metadata": {},
   "outputs": [
    {
     "name": "stdout",
     "output_type": "stream",
     "text": [
      "    artist                           song  \\\n",
      "240   cher          \"Cry Myself To Sleep\"   \n",
      "158   cher                   \"Outrageous\"   \n",
      "171   cher  \"I Walk On Guilded Splinters\"   \n",
      "\n",
      "                                                lyrics  \\\n",
      "240    Every night, I lay my head On my pillow on m...   \n",
      "158    Outrageous, outrageous (They say) I'm outrag...   \n",
      "171    Some people think they jive me, but I know t...   \n",
      "\n",
      "                                                tokens  Bing_Liu_Score  \\\n",
      "240  [, every, night, lay, head, pillow, bed, cry, ...       -0.209677   \n",
      "158  [, outrageous, outrageous, say, im, outrageous...       -0.178295   \n",
      "171  [, people, think, jive, know, must, crazy, can...       -0.156250   \n",
      "\n",
      "     Tidy_Text_Score  \n",
      "240         0.016129  \n",
      "158         0.007752  \n",
      "171         0.006250  \n"
     ]
    }
   ],
   "source": [
    "print(bottom_3)"
   ]
  },
  {
   "cell_type": "code",
   "execution_count": 31,
   "id": "8c9aa9f4",
   "metadata": {},
   "outputs": [
    {
     "name": "stdout",
     "output_type": "stream",
     "text": [
      "  My drinking is killing me My drinking is killing me My drinking is killing me My drinking is killing me My drinking is killing me My drinking is killing me My drinking is killing me My drinking is killing me My drinking is killing me My drinking is killing me My drinking is killing me My drinking is killing me My drinking is killing me My drinking is killing me My drinking is killing me  My smoking is killing me My diet is killing me My heels are killing me My shopping's killing me My ego is killing me Can't sleep, it's killing me My label's killing me Kickdrum  My phone is killing me My email is killing me These hours are killing me My tour is killing me This flight is killing me My manager's killing me My mother's killing me My landlord's killing me My boss is killing me The TV is killing me Your nagging is killing me My boyfriend's killing me My talking's killing me Killing me Killing me  Can't sleep, it's killing me My dreams are killing me TV is killing me My talking's killing me Let go, you're killing me Ease up, you're killing me Calm down, you're killing me My god, you're killing me  My drinking is killing me My smoking is killing me My head is killing me My mind is killing me My back is killing me My neck is killing me Your nagging is killing me My gut is killing me My PMS is killing me My email is killing me These hours are killing me My tour is killing me This flight is killing me My manager's killing me My mother's killing me My landlord's killing me My smoking is killing me The TV is killing me Your nagging is killing me Ease up, you're killing me Let go, you're killing me Calm down, you're killing me My god, you're killing me  Don't fucking tell me what to do, do Don't fucking tell me what to do, do, do, do, do Don't fucking tell me what to do Don't fucking tell me what to do, do Don't fucking tell me what to do, do Don't fucking tell me what to do Don't fucking tell me what to do Don't fucking tell me what to do Don't fucking tell me what to do \n",
      "__________________________________________________\n",
      "  My drinking is killing me My drinking is killing me My drinking is killing me My drinking is killing me My drinking is killing me My drinking is killing me My drinking is killing me My drinking is killing me My drinking is killing me My drinking is killing me My drinking is killing me My drinking is killing me My drinking is killing me My drinking is killing me My drinking is killing me  My smoking is killing me My diet is killing me My heels are killing me My shopping's killing me My ego is killing me Can't sleep, it's killing me My label's killing me Kickdrum  My phone is killing me My email is killing me These hours are killing me My tour is killing me This flight is killing me My manager's killing me My mother's killing me My landlord's killing me My boss is killing me The TV is killing me Your nagging is killing me My boyfriend's killing me My talking's killing me Killing me Killing me  Can't sleep, it's killing me My dreams are killing me TV is killing me My talking's killing me Let go, you're killing me Ease up, you're killing me Calm down, you're killing me My god, you're killing me  My drinking is killing me My smoking is killing me My head is killing me My mind is killing me My back is killing me My neck is killing me Your nagging is killing me My gut is killing me My PMS is killing me My email is killing me These hours are killing me My tour is killing me This flight is killing me My manager's killing me My mother's killing me My landlord's killing me My smoking is killing me The TV is killing me Your nagging is killing me Ease up, you're killing me Let go, you're killing me Calm down, you're killing me My god, you're killing me  Don't fucking tell me what to do, do Don't fucking tell me what to do, do, do, do, do Don't fucking tell me what to do Don't fucking tell me what to do, do Don't fucking tell me what to do, do Don't fucking tell me what to do Don't fucking tell me what to do Don't fucking tell me what to do Don't fucking tell me what to do \n",
      "__________________________________________________\n",
      "  Somebody alert the authorities, I got criminal intent Conspiracy to engage in lewd and indecent acts and events I'mma wind it, grind it, oh my, I'mma say it again Somebody alert the authorities, she's got criminal intent  Somebody alert the authorities, I got criminal intent Conspiracy to engage in lewd and indecent acts and events I'mma wind it, grind it, oh my, I'mma say it again Somebody alert the authorities, she's got criminal intent  Somebody alert the authorities, I got criminal intent Conspiracy to engage in lewd and indecent acts and events I'mma wind it, grind it, oh my, I'mma say it again Somebody alert the authorities, I got criminal intent  - Will the defendant please rise? State your full name for the record. - Robyn - Do you wish to say anything before the sentence is imposed? - I do your Honor!  You know, from time to time I need to get down Unwind and just bump and grind Get my shot on, have some fun A little dirty never hurt anyone I admit, I can get somewhat X-rated on the floor But your Honor, how's that something you get incarcerated for?  I-I-I done nothing that's wrong  ?? something that's frowned upon I object most strongly Judge, they played my song  Somebody alert the authorities, I got criminal intent Conspiracy to engage in lewd and indecent acts and events I'mma wind it, grind it, oh my, I'mma say it again Somebody alert the authorities, she's got criminal intent  Somebody alert the authorities, I got criminal intent Conspiracy to engage in lewd and indecent acts and events I'mma wind it, grind it, oh my, I'mma say it again Somebody alert the authorities, I got criminal intent Somebody alert the authorities, she's got criminal intent  Y-yo-yo Judge, may the record reflect the fact  I don't have any priors Besides, would you pardon me  For being inappropriately attired? But yo, listen, them cuffs down at county Totally ripped up my pantyhose And some snitch punk at legal aid Stole my voucher for court clothes  I done nothing that's wrong  ?? something that's frowned upon I object most strongly Judge, they played my song  Somebody alert the authorities, I got criminal intent Conspiracy to engage in lewd and indecent acts and events I'mma wind it, grind it, oh my, I'mma say it again Somebody alert the authorities, she's got criminal intent  Somebody alert the authorities, I got criminal intent Conspiracy to engage in lewd and indecent acts and events I'mma wind it, grind it, oh my, I'mma say it again Somebody alert the authorities, I got criminal intent Somebody alert the authorities, she's got criminal intent \n",
      "__________________________________________________\n"
     ]
    }
   ],
   "source": [
    "\n",
    "second_artist = lyrics_data[lyrics_data['artist'] == 'robyn']\n",
    "\n",
    "#sort by sentiment\n",
    "\n",
    "sort_sentiment2 = second_artist.sort_values(by = 'Bing_Liu_Score')\n",
    "\n",
    "#top 3 and bottom 3 by sentiment\n",
    "\n",
    "top_3_2 = sort_sentiment2.tail(3)\n",
    "bottom_3_2 = sort_sentiment2.head(3)\n",
    "\n",
    "\n",
    "#printing lyrics\n",
    "\n",
    "for i, row in bottom_3_2.iterrows():\n",
    "    print(row['lyrics'])\n",
    "    print(\"_\"*50)"
   ]
  },
  {
   "cell_type": "code",
   "execution_count": 32,
   "id": "392de04b",
   "metadata": {},
   "outputs": [
    {
     "name": "stdout",
     "output_type": "stream",
     "text": [
      "    artist                                    song  \\\n",
      "415  robyn  \"Do You Really Want Me (Show Respect)\"   \n",
      "389  robyn                        \"Indestructible\"   \n",
      "337  robyn                          \"Love Is Free\"   \n",
      "\n",
      "                                                lyrics  \\\n",
      "415    Boy listen to me careful now Cause this is s...   \n",
      "389    I'm going backwards through time at the spee...   \n",
      "337    Free Love is free, baby Free Love is free, b...   \n",
      "\n",
      "                                                tokens  Bing_Liu_Score  \\\n",
      "415  [, boy, listen, careful, cause, something, eve...        0.137615   \n",
      "389  [, im, going, backwards, time, speed, light, i...        0.142077   \n",
      "337  [, free, love, free, baby, free, love, free, b...        0.317460   \n",
      "\n",
      "     Tidy_Text_Score  \n",
      "415         0.009174  \n",
      "389         0.005464  \n",
      "337         0.003175  \n"
     ]
    }
   ],
   "source": [
    "print(top_3_2)"
   ]
  },
  {
   "cell_type": "code",
   "execution_count": 33,
   "id": "97e6a750",
   "metadata": {},
   "outputs": [
    {
     "name": "stdout",
     "output_type": "stream",
     "text": [
      "    artist                                song  \\\n",
      "369  robyn  \"Don't Fucking Tell Me What To Do\"   \n",
      "391  robyn  \"Don't Fucking Tell Me What To Do\"   \n",
      "332  robyn                   \"Criminal Intent\"   \n",
      "\n",
      "                                                lyrics  \\\n",
      "369    My drinking is killing me My drinking is kil...   \n",
      "391    My drinking is killing me My drinking is kil...   \n",
      "332    Somebody alert the authorities, I got crimin...   \n",
      "\n",
      "                                                tokens  Bing_Liu_Score  \\\n",
      "369  [, drinking, killing, drinking, killing, drink...       -0.431818   \n",
      "391  [, drinking, killing, drinking, killing, drink...       -0.431818   \n",
      "332  [, somebody, alert, authorities, got, criminal...       -0.183746   \n",
      "\n",
      "     Tidy_Text_Score  \n",
      "369         0.005682  \n",
      "391         0.005682  \n",
      "332         0.003534  \n"
     ]
    }
   ],
   "source": [
    "print(bottom_3_2)"
   ]
  },
  {
   "attachments": {},
   "cell_type": "markdown",
   "id": "1f8334f4",
   "metadata": {},
   "source": [
    "### Questions\n",
    "\n",
    "Q: Overall, which artist has the higher average sentiment per song? \n",
    "\n",
    "A: Cher had the higher average sentiment per song\n",
    "\n",
    "---\n",
    "\n",
    "Q: For your first artist, what are the three songs that have the highest and lowest sentiments? Print the lyrics of those songs to the screen. What do you think is driving the sentiment score? \n",
    "\n",
    "A: Cher top 3:\n",
    "Love And Understanding\"   \n",
    " \"Move Me\"   \n",
    "  \"My Love\"\n",
    "\n",
    " Cher bottom 3:\n",
    "\"Cry Myself To Sleep\"   \n",
    " \"Outrageous\"   \n",
    "\"I Walk On Guilded Splinters\n",
    "\n",
    "I think its evident in the song titles like in the top 3 \"love\", \"undestanding\" have a positive sentiment where words in the bottom 3 like \"cry\", \"otrageous\" have negative sentiment.\n",
    "\n",
    "\n",
    "---\n",
    "\n",
    "Q: For your second artist, what are the three songs that have the highest and lowest sentiments? Print the lyrics of those songs to the screen. What do you think is driving the sentiment score? \n",
    "\n",
    "\n",
    "\n",
    "\n",
    "A:  Robyn top 3:\n",
    "\"Do You Really Want Me (Show Respect)\"   \n",
    "\"Indestructible\"   \n",
    " \"Love Is Free\"\n",
    "\n",
    " Robyn: Bottom 3:\n",
    " \"Don't Fucking Tell Me What To Do\"   \n",
    " \"Don't Fucking Tell Me What To Do\"   \n",
    " \"Criminal Intent\"   \n",
    "\n",
    "Looking at the lyrics, I think words like \"careful\", \"free\" and \"baby\" contribute to the positve sentiment while negative/dark words like \"killing\", \"drinking\" and authorities contribute to a negative sentiment\n",
    "---\n",
    "\n",
    "Q: Plot the distributions of the sentiment scores for both artists. You can use `seaborn` to plot densities or plot histograms in matplotlib.\n",
    "\n",
    "\n"
   ]
  },
  {
   "cell_type": "code",
   "execution_count": 34,
   "id": "835232dc",
   "metadata": {},
   "outputs": [
    {
     "data": {
      "text/plain": [
       "<AxesSubplot: xlabel='Bing_Liu_Score', ylabel='Count'>"
      ]
     },
     "execution_count": 34,
     "metadata": {},
     "output_type": "execute_result"
    },
    {
     "data": {
      "image/png": "[encoded data removed]",
      "text/plain": [
       "<Figure size 640x480 with 1 Axes>"
      ]
     },
     "metadata": {},
     "output_type": "display_data"
    }
   ],
   "source": [
    "import seaborn as sns\n",
    "sns.histplot(data=lyrics_data, x='Bing_Liu_Score', hue= 'artist', kde=True)"
   ]
  },
  {
   "cell_type": "markdown",
   "id": "b3fe644d",
   "metadata": {},
   "source": [
    "## Sentiment Analysis on Twitter Descriptions\n",
    "\n",
    "In this section, define two sets of emojis you designate as positive and negative. Make sure to have at least 10 emojis per set. You can learn about the most popular emojis on Twitter at [the emojitracker](https://emojitracker.com/). \n",
    "\n",
    "Associate your positive emojis with a score of +1, negative with -1. Score the average sentiment of your two artists based on the Twitter descriptions of their followers. The average sentiment can just be the total score divided by number of followers. You do not need to calculate sentiment on non-emoji content for this section."
   ]
  },
  {
   "cell_type": "code",
   "execution_count": 37,
   "id": "1a5c1d25",
   "metadata": {},
   "outputs": [
    {
     "ename": "TypeError",
     "evalue": "'dict' object is not callable",
     "output_type": "error",
     "traceback": [
      "\u001b[0;31m---------------------------------------------------------------------------\u001b[0m",
      "\u001b[0;31mTypeError\u001b[0m                                 Traceback (most recent call last)",
      "Cell \u001b[0;32mIn[37], line 5\u001b[0m\n\u001b[1;32m      1\u001b[0m positive_emojis \u001b[39m=\u001b[39m [\u001b[39m'\u001b[39m\u001b[39m😀\u001b[39m\u001b[39m'\u001b[39m, \u001b[39m'\u001b[39m\u001b[39m😃\u001b[39m\u001b[39m'\u001b[39m, \u001b[39m'\u001b[39m\u001b[39m😁\u001b[39m\u001b[39m'\u001b[39m, \u001b[39m'\u001b[39m\u001b[39m😂\u001b[39m\u001b[39m'\u001b[39m, \u001b[39m'\u001b[39m\u001b[39m🤣\u001b[39m\u001b[39m'\u001b[39m, \u001b[39m'\u001b[39m\u001b[39m😉\u001b[39m\u001b[39m'\u001b[39m, \u001b[39m'\u001b[39m\u001b[39m😍\u001b[39m\u001b[39m'\u001b[39m, \u001b[39m'\u001b[39m\u001b[39m😇\u001b[39m\u001b[39m'\u001b[39m, \u001b[39m'\u001b[39m\u001b[39m🥰\u001b[39m\u001b[39m'\u001b[39m, \u001b[39m'\u001b[39m\u001b[39m😘\u001b[39m\u001b[39m'\u001b[39m, \u001b[39m'\u001b[39m\u001b[39m😋\u001b[39m\u001b[39m'\u001b[39m, \u001b[39m'\u001b[39m\u001b[39m😜\u001b[39m\u001b[39m'\u001b[39m, \u001b[39m'\u001b[39m\u001b[39m🙂\u001b[39m\u001b[39m'\u001b[39m, \u001b[39m'\u001b[39m\u001b[39m😆\u001b[39m\u001b[39m'\u001b[39m, \u001b[39m'\u001b[39m\u001b[39m😚\u001b[39m\u001b[39m'\u001b[39m]\n\u001b[1;32m      2\u001b[0m negative_emojis \u001b[39m=\u001b[39m [\u001b[39m'\u001b[39m\u001b[39m🤨\u001b[39m\u001b[39m'\u001b[39m,\u001b[39m'\u001b[39m\u001b[39m😞\u001b[39m\u001b[39m'\u001b[39m, \u001b[39m'\u001b[39m\u001b[39m😟\u001b[39m\u001b[39m'\u001b[39m, \u001b[39m'\u001b[39m\u001b[39m🙃\u001b[39m\u001b[39m'\u001b[39m, \u001b[39m'\u001b[39m\u001b[39m😫\u001b[39m\u001b[39m'\u001b[39m, \u001b[39m'\u001b[39m\u001b[39m🥺\u001b[39m\u001b[39m'\u001b[39m, \u001b[39m'\u001b[39m\u001b[39m😢\u001b[39m\u001b[39m'\u001b[39m, \u001b[39m'\u001b[39m\u001b[39m😭\u001b[39m\u001b[39m'\u001b[39m, \u001b[39m'\u001b[39m\u001b[39m😤\u001b[39m\u001b[39m'\u001b[39m, \u001b[39m'\u001b[39m\u001b[39m😠\u001b[39m\u001b[39m'\u001b[39m, \u001b[39m'\u001b[39m\u001b[39m😡\u001b[39m\u001b[39m'\u001b[39m, \u001b[39m'\u001b[39m\u001b[39m🤬\u001b[39m\u001b[39m'\u001b[39m, \u001b[39m'\u001b[39m\u001b[39m🥵\u001b[39m\u001b[39m'\u001b[39m, \u001b[39m'\u001b[39m\u001b[39m😥\u001b[39m\u001b[39m'\u001b[39m, \u001b[39m'\u001b[39m\u001b[39m👿\u001b[39m\u001b[39m'\u001b[39m]\n\u001b[0;32m----> 5\u001b[0m emoji_sentiment \u001b[39m=\u001b[39m \u001b[39mdict\u001b[39;49m(\u001b[39mzip\u001b[39;49m(positive_emojis, [\u001b[39m1\u001b[39;49m]\u001b[39m*\u001b[39;49m\u001b[39m15\u001b[39;49m))\n\u001b[1;32m      6\u001b[0m emoji_sentiment\u001b[39m.\u001b[39mupdate(\u001b[39mdict\u001b[39m(\u001b[39mzip\u001b[39m(negative_emojis,[\u001b[39m-\u001b[39m\u001b[39m1\u001b[39m]\u001b[39m*\u001b[39m\u001b[39m15\u001b[39m)))\n",
      "\u001b[0;31mTypeError\u001b[0m: 'dict' object is not callable"
     ]
    }
   ],
   "source": [
    "positive_emojis = ['😀', '😃', '😁', '😂', '🤣', '😉', '😍', '😇', '🥰', '😘', '😋', '😜', '🙂', '😆', '😚']\n",
    "negative_emojis = ['🤨','😞', '😟', '🙃', '😫', '🥺', '😢', '😭', '😤', '😠', '😡', '🤬', '🥵', '😥', '👿']\n",
    "\n",
    "\n",
    "emoji_sentiment = dict(zip(positive_emojis, [1]*15))\n",
    "emoji_sentiment.update(dict(zip(negative_emojis,[-1]*15)))"
   ]
  },
  {
   "cell_type": "code",
   "execution_count": 36,
   "id": "c5aafca9",
   "metadata": {},
   "outputs": [
    {
     "ename": "NameError",
     "evalue": "name 'emoji_sentiment' is not defined",
     "output_type": "error",
     "traceback": [
      "\u001b[0;31m---------------------------------------------------------------------------\u001b[0m",
      "\u001b[0;31mNameError\u001b[0m                                 Traceback (most recent call last)",
      "Cell \u001b[0;32mIn[36], line 1\u001b[0m\n\u001b[0;32m----> 1\u001b[0m emoji_sentiment\n",
      "\u001b[0;31mNameError\u001b[0m: name 'emoji_sentiment' is not defined"
     ]
    }
   ],
   "source": [
    "emoji_sentiment"
   ]
  },
  {
   "cell_type": "code",
   "execution_count": 33,
   "id": "534a3c81",
   "metadata": {},
   "outputs": [
    {
     "ename": "SyntaxError",
     "evalue": "expected ':' (3255622621.py, line 1)",
     "output_type": "error",
     "traceback": [
      "\u001b[0;36m  Cell \u001b[0;32mIn[33], line 1\u001b[0;36m\u001b[0m\n\u001b[0;31m    def get_desc_sentiment(desc, sent= emoji_sentiment)\u001b[0m\n\u001b[0m                                                       ^\u001b[0m\n\u001b[0;31mSyntaxError\u001b[0m\u001b[0;31m:\u001b[0m expected ':'\n"
     ]
    }
   ],
   "source": [
    "def get_desc_sentiment(desc, sent= emoji_sentiment):\n",
    "    sentiment = sum([sent[ch] for ch in str(desc) if ch in sent]):\n",
    "    return(sentiment)\n",
    "\n",
    "def extract_emojis(desc, emoji_list):\n",
    "    emojis = [ch in ch in str(desc) if ch in emoji_list]:\n",
    "    return(emojis)\n"
   ]
  },
  {
   "cell_type": "code",
   "execution_count": null,
   "id": "7835439a",
   "metadata": {},
   "outputs": [],
   "source": [
    "twitter_data.description.apply(get_desc_sentiment)\n",
    "twitter_data['pos_emoji']=twitter_data.description.apply(extract_emojis)\n",
    "twitter_data['neg_emoji']=twitter_data.description.apply(extract_emojis)"
   ]
  },
  {
   "cell_type": "code",
   "execution_count": null,
   "id": "df239bd2",
   "metadata": {},
   "outputs": [],
   "source": [
    "twitter_data.query('sentiment > 0').head()"
   ]
  },
  {
   "cell_type": "code",
   "execution_count": null,
   "id": "dac17fe3",
   "metadata": {},
   "outputs": [],
   "source": [
    "twitter_data.query('sentiment < 0').head()"
   ]
  },
  {
   "cell_type": "code",
   "execution_count": null,
   "id": "13e0e606",
   "metadata": {},
   "outputs": [],
   "source": [
    "twitter_data.groupby('artist').sentiment.mean()"
   ]
  },
  {
   "cell_type": "code",
   "execution_count": null,
   "id": "a5443b65",
   "metadata": {},
   "outputs": [],
   "source": []
  },
  {
   "cell_type": "markdown",
   "id": "fb92eb93",
   "metadata": {},
   "source": [
    "Q: What is the average sentiment of your two artists? \n",
    "\n",
    "A: <!-- Your answer here --> \n",
    "\n",
    "---\n",
    "\n",
    "Q: Which positive emoji is the most popular for each artist? Which negative emoji? \n",
    "\n",
    "A: <!-- Your answer here --> \n",
    "\n"
   ]
  }
 ],
 "metadata": {
  "kernelspec": {
   "display_name": "Python 3",
   "language": "python",
   "name": "python3"
  },
  "language_info": {
   "codemirror_mode": {
    "name": "ipython",
    "version": 3
   },
   "file_extension": ".py",
   "mimetype": "text/x-python",
   "name": "python",
   "nbconvert_exporter": "python",
   "pygments_lexer": "ipython3",
   "version": "3.10.0"
  },
  "vscode": {
   "interpreter": {
    "hash": "aee8b7b246df8f9039afb4144a1f6fd8d2ca17a180786b69acc140d282b71a49"
   }
  }
 },
 "nbformat": 4,
 "nbformat_minor": 5
}
